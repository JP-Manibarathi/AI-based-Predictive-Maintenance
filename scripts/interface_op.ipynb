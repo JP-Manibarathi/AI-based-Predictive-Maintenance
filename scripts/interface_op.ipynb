{
 "cells": [
  {
   "cell_type": "code",
   "execution_count": 14,
   "id": "306d239c-3e2b-4a6e-a4a4-5c7b0601dfe9",
   "metadata": {},
   "outputs": [
    {
     "name": "stdout",
     "output_type": "stream",
     "text": [
      "Received Data: {'ENGINE_RPM ()': 1500, 'COOLANT_TEMPERATURE ()': 90, 'ENGINE_LOAD ()': 45, 'FUEL_TANK ()': 70, 'Engine rpm': 1500, 'Lub oil pressure': 4.5, 'Fuel pressure': 3.2, 'Coolant pressure': 2.0, 'lub oil temp': 85, 'Coolant temp': 88}\n",
      "\u001b[1m1/1\u001b[0m \u001b[32m━━━━━━━━━━━━━━━━━━━━\u001b[0m\u001b[37m\u001b[0m \u001b[1m1s\u001b[0m 958ms/step\n",
      "Prediction Results: {'RUL Prediction': array([0.23094103], dtype=float32), 'Fault Detection': 'Faulty', 'Anomaly Detection': 'Normal'}\n"
     ]
    },
    {
     "name": "stderr",
     "output_type": "stream",
     "text": [
      "C:\\Users\\Manibharathi\\anaconda3\\Lib\\site-packages\\sklearn\\base.py:493: UserWarning: X does not have valid feature names, but RandomForestClassifier was fitted with feature names\n",
      "  warnings.warn(\n"
     ]
    },
    {
     "name": "stdout",
     "output_type": "stream",
     "text": [
      "Received Data: {'ENGINE_RPM ()': 1500, 'COOLANT_TEMPERATURE ()': 90, 'ENGINE_LOAD ()': 45, 'FUEL_TANK ()': 70, 'Engine rpm': 1500, 'Lub oil pressure': 4.5, 'Fuel pressure': 3.2, 'Coolant pressure': 2.0, 'lub oil temp': 85, 'Coolant temp': 88}\n",
      "\u001b[1m1/1\u001b[0m \u001b[32m━━━━━━━━━━━━━━━━━━━━\u001b[0m\u001b[37m\u001b[0m \u001b[1m0s\u001b[0m 36ms/step\n",
      "Prediction Results: {'RUL Prediction': array([0.23094103], dtype=float32), 'Fault Detection': 'Faulty', 'Anomaly Detection': 'Normal'}\n"
     ]
    },
    {
     "name": "stderr",
     "output_type": "stream",
     "text": [
      "C:\\Users\\Manibharathi\\anaconda3\\Lib\\site-packages\\sklearn\\base.py:493: UserWarning: X does not have valid feature names, but RandomForestClassifier was fitted with feature names\n",
      "  warnings.warn(\n"
     ]
    },
    {
     "name": "stdout",
     "output_type": "stream",
     "text": [
      "Received Data: {'ENGINE_RPM ()': 1500, 'COOLANT_TEMPERATURE ()': 90, 'ENGINE_LOAD ()': 45, 'FUEL_TANK ()': 70, 'Engine rpm': 1500, 'Lub oil pressure': 4.5, 'Fuel pressure': 3.2, 'Coolant pressure': 2.0, 'lub oil temp': 85, 'Coolant temp': 88}\n",
      "\u001b[1m1/1\u001b[0m \u001b[32m━━━━━━━━━━━━━━━━━━━━\u001b[0m\u001b[37m\u001b[0m \u001b[1m0s\u001b[0m 32ms/step\n",
      "Prediction Results: {'RUL Prediction': array([0.23094103], dtype=float32), 'Fault Detection': 'Faulty', 'Anomaly Detection': 'Normal'}\n"
     ]
    },
    {
     "name": "stderr",
     "output_type": "stream",
     "text": [
      "C:\\Users\\Manibharathi\\anaconda3\\Lib\\site-packages\\sklearn\\base.py:493: UserWarning: X does not have valid feature names, but RandomForestClassifier was fitted with feature names\n",
      "  warnings.warn(\n"
     ]
    },
    {
     "name": "stdout",
     "output_type": "stream",
     "text": [
      "Received Data: {'ENGINE_RPM ()': 1500, 'COOLANT_TEMPERATURE ()': 90, 'ENGINE_LOAD ()': 45, 'FUEL_TANK ()': 70, 'Engine rpm': 1500, 'Lub oil pressure': 4.5, 'Fuel pressure': 3.2, 'Coolant pressure': 2.0, 'lub oil temp': 85, 'Coolant temp': 88}\n",
      "\u001b[1m1/1\u001b[0m \u001b[32m━━━━━━━━━━━━━━━━━━━━\u001b[0m\u001b[37m\u001b[0m \u001b[1m0s\u001b[0m 46ms/step\n",
      "Prediction Results: {'RUL Prediction': array([0.23094103], dtype=float32), 'Fault Detection': 'Faulty', 'Anomaly Detection': 'Normal'}\n"
     ]
    },
    {
     "name": "stderr",
     "output_type": "stream",
     "text": [
      "C:\\Users\\Manibharathi\\anaconda3\\Lib\\site-packages\\sklearn\\base.py:493: UserWarning: X does not have valid feature names, but RandomForestClassifier was fitted with feature names\n",
      "  warnings.warn(\n"
     ]
    },
    {
     "ename": "KeyboardInterrupt",
     "evalue": "",
     "output_type": "error",
     "traceback": [
      "\u001b[1;31m---------------------------------------------------------------------------\u001b[0m",
      "\u001b[1;31mKeyboardInterrupt\u001b[0m                         Traceback (most recent call last)",
      "Cell \u001b[1;32mIn[14], line 79\u001b[0m\n\u001b[0;32m     76\u001b[0m         time\u001b[38;5;241m.\u001b[39msleep(\u001b[38;5;241m1\u001b[39m)  \u001b[38;5;66;03m# Simulate real-time delay\u001b[39;00m\n\u001b[0;32m     78\u001b[0m \u001b[38;5;28;01mif\u001b[39;00m \u001b[38;5;18m__name__\u001b[39m \u001b[38;5;241m==\u001b[39m \u001b[38;5;124m\"\u001b[39m\u001b[38;5;124m__main__\u001b[39m\u001b[38;5;124m\"\u001b[39m:\n\u001b[1;32m---> 79\u001b[0m     run_local_inference()\n",
      "Cell \u001b[1;32mIn[14], line 76\u001b[0m, in \u001b[0;36mrun_local_inference\u001b[1;34m()\u001b[0m\n\u001b[0;32m     74\u001b[0m result \u001b[38;5;241m=\u001b[39m make_predictions(sensor_data)\n\u001b[0;32m     75\u001b[0m \u001b[38;5;28mprint\u001b[39m(\u001b[38;5;124mf\u001b[39m\u001b[38;5;124m\"\u001b[39m\u001b[38;5;124mPrediction Results: \u001b[39m\u001b[38;5;132;01m{\u001b[39;00mresult\u001b[38;5;132;01m}\u001b[39;00m\u001b[38;5;124m\"\u001b[39m)\n\u001b[1;32m---> 76\u001b[0m time\u001b[38;5;241m.\u001b[39msleep(\u001b[38;5;241m1\u001b[39m)\n",
      "\u001b[1;31mKeyboardInterrupt\u001b[0m: "
     ]
    }
   ],
   "source": [
    "import joblib\n",
    "import numpy as np\n",
    "import time\n",
    "\n",
    "# Load models\n",
    "models = {\n",
    "    \"rul\": joblib.load(r\"C:\\\\Users\\\\Manibharathi\\\\Downloads\\\\AI-based-Predictive-Maintenance\\\\models\\\\engine_rul_calc.pkl\"),\n",
    "    \"fault_detection\": joblib.load(r\"C:\\\\Users\\\\Manibharathi\\\\Downloads\\\\AI-based-Predictive-Maintenance\\\\models\\\\engine_fault_prediction.pkl\"),\n",
    "    \"anomaly_detection\": joblib.load(r\"C:\\\\Users\\\\Manibharathi\\\\Downloads\\\\AI-based-Predictive-Maintenance\\\\models\\\\engine_anomaly_detection.pkl\"),\n",
    "}\n",
    "\n",
    "# Features for each model\n",
    "features = {\n",
    "    \"rul\": ['ENGINE_RPM ()', 'COOLANT_TEMPERATURE ()', 'ENGINE_LOAD ()', 'FUEL_TANK ()'],\n",
    "    \"anomaly_detection\": ['ENGINE_RPM ()', 'COOLANT_TEMPERATURE ()', 'ENGINE_LOAD ()', 'FUEL_TANK ()'],\n",
    "    \"fault_detection\": ['Engine rpm', 'Lub oil pressure', 'Fuel pressure', 'Coolant pressure', 'lub oil temp', 'Coolant temp']\n",
    "}\n",
    "\n",
    "# Simulate receiving real-time sensor data\n",
    "def get_real_time_sensor_data():\n",
    "    # Example simulated sensor data (replace with actual sensor logic)\n",
    "    return {\n",
    "        \"ENGINE_RPM ()\": 1500,\n",
    "        \"COOLANT_TEMPERATURE ()\": 90,\n",
    "        \"ENGINE_LOAD ()\": 45,\n",
    "        \"FUEL_TANK ()\": 70,\n",
    "        \"Engine rpm\": 1500,\n",
    "        \"Lub oil pressure\": 4.5,\n",
    "        \"Fuel pressure\": 3.2,\n",
    "        \"Coolant pressure\": 2.0,\n",
    "        \"lub oil temp\": 85,\n",
    "        \"Coolant temp\": 88\n",
    "    }\n",
    "\n",
    "# Function to reshape and process input data for a specific model\n",
    "def reshape_input(sensor_data, model_features, model_name):\n",
    "    # Extract relevant features for the specific model\n",
    "    data_array = np.array([sensor_data[feature] for feature in model_features])\n",
    "    \n",
    "    if model_name == \"rul\":  # Example: RUL model might expect time-series (3D) input\n",
    "        # Create padded data for time-series models\n",
    "        padded_data = np.zeros((50, 26))\n",
    "        padded_data[:, :len(data_array)] = np.tile(data_array, (50, 1))\n",
    "        return padded_data.reshape(1, 50, 26)  # Reshape to (1, 50, 26)\n",
    "    else:\n",
    "        # Flatten input for models like RandomForestClassifier\n",
    "        return data_array.reshape(1, -1)  # Reshape to (1, n_features)\n",
    "\n",
    "\n",
    "def make_predictions(sensor_data):\n",
    "    results = {}\n",
    "    try:\n",
    "        for model_name, model in models.items():\n",
    "            model_features = features[model_name]\n",
    "            reshaped_data = reshape_input(sensor_data, model_features, model_name)\n",
    "            prediction = model.predict(reshaped_data)[0]\n",
    "            if model_name == \"rul\":\n",
    "                results[\"RUL Prediction\"] = prediction\n",
    "            elif model_name == \"fault_detection\":\n",
    "                results[\"Fault Detection\"] = \"Faulty\" if prediction == 1 else \"Normal\"\n",
    "            elif model_name == \"anomaly_detection\":\n",
    "                results[\"Anomaly Detection\"] = \"Anomaly\" if prediction == 1 else \"Normal\"\n",
    "    except Exception as e:\n",
    "        results[\"error\"] = str(e)\n",
    "    return results\n",
    "\n",
    "\n",
    "# Main loop to simulate continuous real-time data prediction\n",
    "def run_local_inference():\n",
    "    while True:\n",
    "        sensor_data = get_real_time_sensor_data()\n",
    "        print(f\"Received Data: {sensor_data}\")\n",
    "        result = make_predictions(sensor_data)\n",
    "        print(f\"Prediction Results: {result}\")\n",
    "        time.sleep(1)  # Simulate real-time delay\n",
    "\n",
    "if __name__ == \"__main__\":\n",
    "    run_local_inference()\n"
   ]
  },
  {
   "cell_type": "code",
   "execution_count": null,
   "id": "0c9fa7d8-9575-401a-abde-0a71348f1f73",
   "metadata": {},
   "outputs": [],
   "source": []
  }
 ],
 "metadata": {
  "kernelspec": {
   "display_name": "Python 3 (ipykernel)",
   "language": "python",
   "name": "python3"
  },
  "language_info": {
   "codemirror_mode": {
    "name": "ipython",
    "version": 3
   },
   "file_extension": ".py",
   "mimetype": "text/x-python",
   "name": "python",
   "nbconvert_exporter": "python",
   "pygments_lexer": "ipython3",
   "version": "3.12.4"
  }
 },
 "nbformat": 4,
 "nbformat_minor": 5
}
