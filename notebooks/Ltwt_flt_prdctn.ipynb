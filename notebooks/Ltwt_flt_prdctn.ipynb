{
 "cells": [
  {
   "cell_type": "code",
   "execution_count": 24,
   "id": "418a36b8-524c-40b7-a7b3-e94b38c1d8b4",
   "metadata": {},
   "outputs": [],
   "source": [
    "# Light weight module for fault prediction: Using various ML models:\n",
    "\n",
    "import pandas as pd\n",
    "import numpy as np\n",
    "from sklearn.model_selection import train_test_split, cross_val_score\n",
    "from sklearn.preprocessing import StandardScaler\n",
    "from sklearn.metrics import accuracy_score, precision_score, recall_score, f1_score\n",
    "from sklearn.linear_model import LogisticRegression\n",
    "from sklearn.tree import DecisionTreeClassifier\n",
    "from sklearn.naive_bayes import GaussianNB\n",
    "from sklearn.ensemble import RandomForestClassifier\n",
    "from sklearn.neighbors import KNeighborsClassifier\n",
    "from sklearn.svm import SVC\n",
    "\n",
    "\n",
    "# Data Pre-processing:\n",
    "# Load your data (modify the file path as necessary)\n",
    "data = pd.read_csv(r'C:\\Users\\Manibharathi\\Downloads\\AI-based-Predictive-Maintenance\\Data\\engine_data.csv')\n",
    "\n",
    "# Define features and target\n",
    "features = [col for col in data.columns if col not in ['Engine Condition', 'RUL']]\n",
    "target = 'Engine Condition'\n",
    "\n",
    "# Split the data into training and testing sets\n",
    "X = data[features]\n",
    "y = data[target]\n",
    "\n",
    "X_train, X_test, y_train, y_test = train_test_split(X, y, test_size=0.2, random_state=42)\n",
    "\n",
    "# Scale the features for optimal model performance\n",
    "scaler = StandardScaler()\n",
    "X_train_scaled = scaler.fit_transform(X_train)\n",
    "X_test_scaled = scaler.transform(X_test)\n"
   ]
  },
  {
   "cell_type": "code",
   "execution_count": 26,
   "id": "c0ad0637-14db-4007-8e85-399626c0ae4d",
   "metadata": {},
   "outputs": [
    {
     "name": "stdout",
     "output_type": "stream",
     "text": [
      "Logistic Regression - Accuracy: 0.650, Precision: 0.670, Recall: 0.872, F1 Score: 0.758\n",
      "Decision Tree - Accuracy: 0.650, Precision: 0.667, Recall: 0.882, F1 Score: 0.759\n",
      "Naive Bayes - Accuracy: 0.647, Precision: 0.670, Recall: 0.858, F1 Score: 0.753\n",
      "Random Forest - Accuracy: 0.656, Precision: 0.668, Recall: 0.895, F1 Score: 0.765\n",
      "K-Nearest Neighbors - Accuracy: 0.616, Precision: 0.681, Recall: 0.730, F1 Score: 0.704\n"
     ]
    }
   ],
   "source": [
    "# Build and Train lightwt models:\n",
    "\n",
    "# Initialize models\n",
    "models = {\n",
    "    \"Logistic Regression\": LogisticRegression(),\n",
    "    \"Decision Tree\": DecisionTreeClassifier(max_depth=5),\n",
    "    \"Naive Bayes\": GaussianNB(),\n",
    "    \"Random Forest\": RandomForestClassifier(n_estimators=50, max_depth=5, random_state=42),\n",
    "    \"K-Nearest Neighbors\": KNeighborsClassifier(n_neighbors=3)\n",
    "}\n",
    "\n",
    "# Train and evaluate each model\n",
    "model_results = {}\n",
    "for model_name, model in models.items():\n",
    "    model.fit(X_train_scaled, y_train)\n",
    "    y_pred = model.predict(X_test_scaled)\n",
    "\n",
    "    # Calculate and store evaluation metrics\n",
    "    accuracy = accuracy_score(y_test, y_pred)\n",
    "    precision = precision_score(y_test, y_pred, pos_label=1)\n",
    "    recall = recall_score(y_test, y_pred, pos_label=1)\n",
    "    f1 = f1_score(y_test, y_pred, pos_label=1)\n",
    "\n",
    "    model_results[model_name] = {\n",
    "        \"Accuracy\": accuracy,\n",
    "        \"Precision\": precision,\n",
    "        \"Recall\": recall,\n",
    "        \"F1 Score\": f1\n",
    "    }\n",
    "\n",
    "# Display model results\n",
    "for model_name, metrics in model_results.items():\n",
    "    print(f\"{model_name} - Accuracy: {metrics['Accuracy']:.3f}, Precision: {metrics['Precision']:.3f}, \"\n",
    "          f\"Recall: {metrics['Recall']:.3f}, F1 Score: {metrics['F1 Score']:.3f}\")\n"
   ]
  },
  {
   "cell_type": "code",
   "execution_count": null,
   "id": "31c935e7-caee-4b34-9c57-eaef50d480eb",
   "metadata": {},
   "outputs": [],
   "source": [
    "# Real Time Fault Prediction Simulation:\n",
    "\n",
    "def real_time_fault_prediction(data_row, model, scaler):\n",
    "    # Preprocess and scale the incoming data row (excluding the target column)\n",
    "    data_row_scaled = scaler.transform([data_row])\n",
    "    prediction = model.predict(data_row_scaled)\n",
    "\n",
    "    if prediction == 1:\n",
    "        return \"Fault Detected\"\n",
    "    else:\n",
    "        return \"No Fault Detected\"\n",
    "\n",
    "# Example usage\n",
    "example_data_row = X.iloc[1]  # Replace with real-time data row when available\n",
    "selected_model = models[\"Random Forest\"]  # Or choose the best-performing model from the results\n",
    "print(real_time_fault_prediction(example_data_row, selected_model, scaler))\n"
   ]
  },
  {
   "cell_type": "code",
   "execution_count": null,
   "id": "c8763d14-231f-489e-848e-0ba112c43f83",
   "metadata": {},
   "outputs": [],
   "source": [
    "# Visualizing the Results:\n",
    "\n",
    "import matplotlib.pyplot as plt\n",
    "import seaborn as sns\n",
    "from sklearn.metrics import confusion_matrix, roc_curve, auc\n",
    "\n",
    "\n",
    "# Confusion Matrix for each model:\n",
    "\n",
    "def plot_confusion_matrices(models, X_test, y_test):\n",
    "    fig, axes = plt.subplots(1, len(models), figsize=(15, 5))\n",
    "    fig.suptitle(\"Confusion Matrices for Different Models\", fontsize=16)\n",
    "\n",
    "    for i, (model_name, model) in enumerate(models.items()):\n",
    "        y_pred = model.predict(X_test)\n",
    "        cm = confusion_matrix(y_test, y_pred)\n",
    "        sns.heatmap(cm, annot=True, fmt='d', cmap='Blues', ax=axes[i])\n",
    "        axes[i].set_title(model_name)\n",
    "        axes[i].set_xlabel('Predicted')\n",
    "        axes[i].set_ylabel('Actual')\n",
    "\n",
    "    plt.tight_layout()\n",
    "    plt.show()\n",
    "\n",
    "# Plot confusion matrices\n",
    "plot_confusion_matrices(models, X_test_scaled, y_test)\n"
   ]
  },
  {
   "cell_type": "code",
   "execution_count": null,
   "id": "d6d14f94-aa87-4bcc-85df-2bce9ede0f31",
   "metadata": {},
   "outputs": [],
   "source": [
    "# ROC curves for each model:\n",
    "\n",
    "def plot_roc_curves(models, X_test, y_test):\n",
    "    plt.figure(figsize=(10, 8))\n",
    "    for model_name, model in models.items():\n",
    "        y_pred_prob = model.predict_proba(X_test)[:, 1] if hasattr(model, \"predict_proba\") else model.decision_function(X_test)\n",
    "        fpr, tpr, _ = roc_curve(y_test, y_pred_prob)\n",
    "        roc_auc = auc(fpr, tpr)\n",
    "        plt.plot(fpr, tpr, label=f\"{model_name} (AUC = {roc_auc:.2f})\")\n",
    "\n",
    "    plt.plot([0, 1], [0, 1], 'k--')  # Diagonal line for random guessing\n",
    "    plt.xlabel(\"False Positive Rate\")\n",
    "    plt.ylabel(\"True Positive Rate\")\n",
    "    plt.title(\"ROC Curves for Different Models\")\n",
    "    plt.legend(loc=\"lower right\")\n",
    "    plt.show()\n",
    "\n",
    "# Plot ROC curves\n",
    "plot_roc_curves(models, X_test_scaled, y_test)\n"
   ]
  },
  {
   "cell_type": "code",
   "execution_count": null,
   "id": "a3ff90ef-2216-458a-be86-f37081f44fa2",
   "metadata": {},
   "outputs": [],
   "source": [
    "# Compare Metrics with Bar Plots\n",
    "\n",
    "def plot_metrics_bar_chart(model_results):\n",
    "    metrics_df = pd.DataFrame(model_results).T  # Transpose for easier plotting\n",
    "    metrics_df.plot(kind=\"bar\", figsize=(12, 8))\n",
    "    plt.title(\"Model Comparison for Accuracy, Precision, Recall, and F1 Score\")\n",
    "    plt.ylabel(\"Score\")\n",
    "    plt.xlabel(\"Models\")\n",
    "    plt.xticks(rotation=45)\n",
    "    plt.legend(loc=\"upper right\")\n",
    "    plt.tight_layout()\n",
    "    plt.show()\n",
    "\n",
    "# Plot metrics comparison\n",
    "plot_metrics_bar_chart(model_results)\n"
   ]
  },
  {
   "cell_type": "code",
   "execution_count": 30,
   "id": "965bb209-88e3-42cb-b42e-6a39820b7da8",
   "metadata": {},
   "outputs": [
    {
     "data": {
      "text/plain": [
       "['C:\\\\Users\\\\Manibharathi\\\\Downloads\\\\AI-based-Predictive-Maintenance\\\\models\\\\Ltwt_flt_prdectn.pkl']"
      ]
     },
     "execution_count": 30,
     "metadata": {},
     "output_type": "execute_result"
    }
   ],
   "source": [
    "from joblib import dump\n",
    "\n",
    "dump(model, r\"C:\\Users\\Manibharathi\\Downloads\\AI-based-Predictive-Maintenance\\models\\Ltwt_flt_prdectn.pkl\")"
   ]
  },
  {
   "cell_type": "code",
   "execution_count": null,
   "id": "8eeee933-0e75-4ab5-8e19-1a8be5e82c7b",
   "metadata": {},
   "outputs": [],
   "source": []
  }
 ],
 "metadata": {
  "kernelspec": {
   "display_name": "Python 3 (ipykernel)",
   "language": "python",
   "name": "python3"
  },
  "language_info": {
   "codemirror_mode": {
    "name": "ipython",
    "version": 3
   },
   "file_extension": ".py",
   "mimetype": "text/x-python",
   "name": "python",
   "nbconvert_exporter": "python",
   "pygments_lexer": "ipython3",
   "version": "3.12.4"
  }
 },
 "nbformat": 4,
 "nbformat_minor": 5
}
